{
 "cells": [
  {
   "attachments": {},
   "cell_type": "markdown",
   "metadata": {},
   "source": [
    "# Worksheet 08\n",
    "\n",
    "Name: William Huang\n",
    "UID: U53888747\n",
    "\n",
    "Github Repo Link (Branch worksheet_08): \n",
    "\n",
    "### Topics\n",
    "\n",
    "- Soft Clustering\n",
    "- Clustering Aggregation\n",
    "\n",
    "### Probability Review\n",
    "\n",
    "Read through [the following](https://medium.com/@gallettilance/overview-of-probability-3272b72c82c8)\n",
    "\n",
    "### Soft Clustering\n",
    "\n",
    "We generate 10 data points that come from a normal distribution with mean 5 and variance 1."
   ]
  },
  {
   "cell_type": "code",
   "execution_count": 98,
   "metadata": {},
   "outputs": [
    {
     "name": "stdout",
     "output_type": "stream",
     "text": [
      "[5.892112516683211, 6.657883350732971, 4.475604685766358, 5.193203678122577, 5.787095309349438, 5.413155250523027, 4.294980883491939, 6.715436413386193, 5.078758840736582, 3.936652762100088]\n"
     ]
    }
   ],
   "source": [
    "import random\n",
    "import numpy as np\n",
    "from sklearn.cluster import KMeans\n",
    "\n",
    "mean = 5\n",
    "stdev = 1\n",
    "\n",
    "s1 = np.random.normal(mean, stdev, 10).tolist()\n",
    "print(s1)"
   ]
  },
  {
   "cell_type": "markdown",
   "metadata": {},
   "source": [
    "a) Generate 10 more data points, this time coming from a normal distribution with mean 8 and variance 1."
   ]
  },
  {
   "cell_type": "code",
   "execution_count": 99,
   "metadata": {},
   "outputs": [
    {
     "name": "stdout",
     "output_type": "stream",
     "text": [
      "[7.84020242270778, 8.07378021127034, 8.477711920654235, 6.116610290859272, 7.792637539287965, 7.706251428202184, 8.719879751432746, 8.775867944775392, 7.585194007796247, 8.546678903345612]\n"
     ]
    }
   ],
   "source": [
    "s2 = np.random.normal( 8 , 1 , 10 ).tolist()\n",
    "print(s2)"
   ]
  },
  {
   "attachments": {},
   "cell_type": "markdown",
   "metadata": {},
   "source": [
    "b) Flip a fair coin 10 times. If the coin lands on H, then pick the last data point of `s1` and remove it from `s1`, if T then pick the last data point from `s2` and remove it from `s2`. Add these 10 points to a list called `data`."
   ]
  },
  {
   "cell_type": "code",
   "execution_count": 100,
   "metadata": {},
   "outputs": [
    {
     "name": "stdout",
     "output_type": "stream",
     "text": [
      "[3.936652762100088, 5.078758840736582, 6.715436413386193, 4.294980883491939, 5.413155250523027, 8.546678903345612, 7.585194007796247, 5.787095309349438, 8.775867944775392, 5.193203678122577]\n"
     ]
    }
   ],
   "source": [
    "data = []\n",
    "for i in range(10):\n",
    "    # flip coin\n",
    "    coin_output = random.choice([0, 1])\n",
    "    if coin_output == 0:\n",
    "        p1 = s1.pop()\n",
    "        data.append(p1)\n",
    "    else:\n",
    "        p2 = s2.pop()\n",
    "        data.append(p2)\n",
    "print(data)"
   ]
  },
  {
   "cell_type": "markdown",
   "metadata": {},
   "source": [
    "c) This `data` is a Gaussian Mixture Distribution with 2 mixture components. Over the next few questions we will walk through the GMM algorithm to see if we can uncover the parameters we used to generate this data. First, please list all these parameters of the GMM that created `data` and the values we know they have."
   ]
  },
  {
   "cell_type": "markdown",
   "metadata": {},
   "source": [
    "Mean of s1: 5; Mean of s2: 8\n",
    "\n",
    "Variance of s1: 1; Variance of s2: 1\n",
    "\n",
    "Probability of a data point being in from s1 or s2: 0.5"
   ]
  },
  {
   "cell_type": "markdown",
   "metadata": {},
   "source": [
    "d) Let's assume there are two mixture components (note: we could plot the data and make the observation that there are two clusters). The EM algorithm asks us to start with a random `mean_j`, `variance_j`, `P(S_j)` for each component j. One method we could use to find sensible values for these is to apply K means with k=2 here.\n",
    "\n",
    "1. the centroids would be the estimates of the `mean_j`\n",
    "2. the intra-cluster variance could be the estimate of `variance_j`\n",
    "3. the proportion of points in each cluster could be the estimate of `P(S_j)`\n",
    "\n",
    "Go through this process and list the parameter estimates it gives. Are they close or far from the true values?"
   ]
  },
  {
   "cell_type": "code",
   "execution_count": 101,
   "metadata": {},
   "outputs": [
    {
     "name": "stdout",
     "output_type": "stream",
     "text": [
      "[6.715436413386193, 8.546678903345612, 7.585194007796247, 8.775867944775392]\n",
      "[3.936652762100088, 5.078758840736582, 4.294980883491939, 5.413155250523027, 5.787095309349438, 5.193203678122577]\n",
      "P(S_1) = 0.4,  P(S_2) = 0.6\n",
      "mean_1 = 7.905794317325861,  mean_2 = 4.950641120720609\n",
      "var_1 = 0.671874416930754,  var_2 = 0.4078147354129616\n"
     ]
    }
   ],
   "source": [
    "kmeans = KMeans(2, init='k-means++').fit(X=np.array(data).reshape(-1, 1))\n",
    "\n",
    "s1 = [x[0] for x in filter(lambda x: x[1] == 0, zip(data, kmeans.labels_))]\n",
    "print(s1)\n",
    "s2 = [x[0] for x in filter(lambda x: x[1] == 1, zip(data, kmeans.labels_))]\n",
    "print(s2)\n",
    "\n",
    "prob_s = [ len(s1) / (len(s1) + len(s2)) , len(s2) / (len(s1) + len(s2)) ]\n",
    "mean = [ sum(s1)/len(s1) , sum(s2)/len(s2) ]\n",
    "var = [ sum(map(lambda x : (x - mean[0])**2, s1)) / len(s1) , sum(map(lambda x : (x - mean[1])**2, s2)) / len(s2) ]\n",
    "\n",
    "print(\"P(S_1) = \" + str(prob_s[0]) + \",  P(S_2) = \" + str(prob_s[1]))\n",
    "print(\"mean_1 = \" + str(mean[0]) + \",  mean_2 = \" + str(mean[1]))\n",
    "print(\"var_1 = \" + str(var[0]) + \",  var_2 = \" + str(var[1]))"
   ]
  },
  {
   "cell_type": "markdown",
   "metadata": {},
   "source": []
  },
  {
   "cell_type": "markdown",
   "metadata": {},
   "source": [
    "e) For each data point, compute `P(S_j | X_i)`. Comment on which cluster you think each point belongs to based on the estimated probabilities. How does that compare to the truth?"
   ]
  },
  {
   "cell_type": "code",
   "execution_count": 102,
   "metadata": {},
   "outputs": [
    {
     "name": "stdout",
     "output_type": "stream",
     "text": [
      "point =  3.936652762100088\n",
      "probability of observing that point if it came from cluster 0 =  3.940997128937347e-06\n",
      "probability of observing that point if it came from cluster 1 =  0.17709747665532852\n",
      "point =  5.078758840736582\n",
      "probability of observing that point if it came from cluster 0 =  0.001271277349846033\n",
      "probability of observing that point if it came from cluster 1 =  0.6122638832128457\n",
      "point =  6.715436413386193\n",
      "probability of observing that point if it came from cluster 0 =  0.16955576783617346\n",
      "probability of observing that point if it came from cluster 1 =  0.013718726347984581\n",
      "point =  4.294980883491939\n",
      "probability of observing that point if it came from cluster 0 =  2.974697524009502e-05\n",
      "probability of observing that point if it came from cluster 1 =  0.3687880741939148\n",
      "point =  5.413155250523027\n",
      "probability of observing that point if it came from cluster 0 =  0.004777135296811065\n",
      "probability of observing that point if it came from cluster 1 =  0.4805891590689989\n",
      "point =  8.546678903345612\n",
      "probability of observing that point if it came from cluster 0 =  0.35852435431935964\n",
      "probability of observing that point if it came from cluster 1 =  8.130339293116835e-08\n",
      "point =  7.585194007796247\n",
      "probability of observing that point if it came from cluster 0 =  0.4508649112021159\n",
      "probability of observing that point if it came from cluster 1 =  0.0001258652912861598\n",
      "point =  5.787095309349438\n",
      "probability of observing that point if it came from cluster 0 =  0.01723754443850191\n",
      "probability of observing that point if it came from cluster 1 =  0.26493308502177254\n",
      "point =  8.775867944775392\n",
      "probability of observing that point if it came from cluster 0 =  0.27707505135033406\n",
      "probability of observing that point if it came from cluster 1 =  1.0103058847256954e-08\n",
      "point =  5.193203678122577\n",
      "probability of observing that point if it came from cluster 0 =  0.0020377023205518006\n",
      "probability of observing that point if it came from cluster 1 =  0.581232857758085\n",
      "3.936652762100088\n",
      "Probability of coming from S_1 = 1.4835290099480489e-05\n",
      "Probability of coming from S_2 = 0.9999851647099005\n",
      "\n",
      "5.078758840736582\n",
      "Probability of coming from S_1 = 0.001382323393810233\n",
      "Probability of coming from S_2 = 0.9986176766061897\n",
      "\n",
      "6.715436413386193\n",
      "Probability of coming from S_1 = 0.8917705146894778\n",
      "Probability of coming from S_2 = 0.10822948531052227\n",
      "\n",
      "4.294980883491939\n",
      "Probability of coming from S_1 = 5.377139841746811e-05\n",
      "Probability of coming from S_2 = 0.9999462286015826\n",
      "\n",
      "5.413155250523027\n",
      "Probability of coming from S_1 = 0.006583151260636031\n",
      "Probability of coming from S_2 = 0.993416848739364\n",
      "\n",
      "8.546678903345612\n",
      "Probability of coming from S_1 = 0.9999996598416635\n",
      "Probability of coming from S_2 = 3.401583363680765e-07\n",
      "\n",
      "7.585194007796247\n",
      "Probability of coming from S_1 = 0.9995814291444591\n",
      "Probability of coming from S_2 = 0.0004185708555409295\n",
      "\n",
      "5.787095309349438\n",
      "Probability of coming from S_1 = 0.04157259793316561\n",
      "Probability of coming from S_2 = 0.9584274020668343\n",
      "\n",
      "8.775867944775392\n",
      "Probability of coming from S_1 = 0.9999999453051173\n",
      "Probability of coming from S_2 = 5.469488273357936e-08\n",
      "\n",
      "5.193203678122577\n",
      "Probability of coming from S_1 = 0.0023317686912609275\n",
      "Probability of coming from S_2 = 0.997668231308739\n",
      "\n"
     ]
    }
   ],
   "source": [
    "from scipy.stats import norm\n",
    "\n",
    "prob_s0_x = [] # P(S_0 | X_i)\n",
    "prob_s1_x = [] # P(S_1 | X_i)\n",
    "prob_x = [] # P(X_i)\n",
    "\n",
    "k = 2\n",
    "\n",
    "for p in data:\n",
    "    print(\"point = \", p)\n",
    "    pdf_i = []\n",
    "\n",
    "    for j in range(k):\n",
    "        # P(X_i | S_j)\n",
    "        pdf_i.append(norm.pdf(p, mean[j], var[j]**0.5))\n",
    "        print(\"probability of observing that point if it came from cluster \" + str(j) + \" = \", pdf_i[j])\n",
    "        # P(S_j) already computed\n",
    "        prob_s[j]\n",
    "\n",
    "    # P(X_i) = P(S_0)P(X_i | S_0) + P(S_1)P(X_i | S_1)\n",
    "    prob_x = prob_s[0] * pdf_i[0] + prob_s[1] * pdf_i[1]\n",
    "\n",
    "    # P(S_j | X_i) = P(X_i | S_j)P(S_j) / P(X_i)\n",
    "    prob_s0_x.append( (pdf_i[0] * prob_s[0]) / prob_x )\n",
    "    prob_s1_x.append( (pdf_i[1] * prob_s[1]) / prob_x )\n",
    "\n",
    "probs = zip(data, prob_s0_x, prob_s1_x)\n",
    "for p in probs:\n",
    "    print(p[0])\n",
    "    print(\"Probability of coming from S_1 = \" + str(p[1]))\n",
    "    print(\"Probability of coming from S_2 = \" + str(p[2]))\n",
    "    print()\n"
   ]
  },
  {
   "cell_type": "markdown",
   "metadata": {},
   "source": [
    "I think the estimated probablities look very correct to me -- the numbers closer to s_1 are marked as such and vice versa. There's a very clear separation between the two means, so it's very easy to spot which cluster a number came from, which lines up with the computer's guesses."
   ]
  },
  {
   "cell_type": "markdown",
   "metadata": {},
   "source": [
    "f) Having computed `P(S_j | X_i)`, update the estimates of `mean_j`, `var_j`, and `P(S_j)`. How different are these values from the original ones you got from K means? briefly comment."
   ]
  },
  {
   "cell_type": "code",
   "execution_count": 103,
   "metadata": {},
   "outputs": [
    {
     "name": "stdout",
     "output_type": "stream",
     "text": [
      "P(S_1) = 0.4,  P(S_2) = 0.6\n",
      "mean_1 = 7.909342232030672,  mean_2 = 4.976000811073192\n",
      "var_1 = 0.7077101192723146,  var_2 = 0.45442025110479417\n"
     ]
    }
   ],
   "source": [
    "prob_c = [sum(prob_s0_x)/ len(prob_s0_x), sum(prob_s1_x)/ len(prob_s1_x) ]\n",
    "mean = [sum([x[0] * x[1] for x in zip(prob_s0_x, data)]) / sum(prob_s0_x), sum([x[0] * x[1] for x in zip(prob_s1_x, data)]) / sum(prob_s1_x) ]\n",
    "var = [ sum([(x - mean[0])**2 * p for x, p in zip(data, prob_s0_x)]) / sum(prob_s0_x), sum([(x - mean[1])**2 * p for x, p in zip(data, prob_s1_x)]) / sum(prob_s1_x) ]\n",
    "\n",
    "print(\"P(S_1) = \" + str(prob_s[0]) + \",  P(S_2) = \" + str(prob_s[1]))\n",
    "print(\"mean_1 = \" + str(mean[0]) + \",  mean_2 = \" + str(mean[1]))\n",
    "print(\"var_1 = \" + str(var[0]) + \",  var_2 = \" + str(var[1]))"
   ]
  },
  {
   "cell_type": "markdown",
   "metadata": {},
   "source": [
    "They are pretty spot on... the values are incredibly similar."
   ]
  },
  {
   "cell_type": "markdown",
   "metadata": {},
   "source": [
    "g) Update `P(S_j | X_i)`. Comment on any differences or lack thereof you observe."
   ]
  },
  {
   "cell_type": "code",
   "execution_count": 104,
   "metadata": {},
   "outputs": [
    {
     "name": "stdout",
     "output_type": "stream",
     "text": [
      "point =  3.936652762100088\n",
      "probability of observing that point if it came from cluster 0 =  6.815518074429961e-06\n",
      "probability of observing that point if it came from cluster 1 =  0.18029366057910154\n",
      "point =  5.078758840736582\n",
      "probability of observing that point if it came from cluster 0 =  0.0016504111532805123\n",
      "probability of observing that point if it came from cluster 1 =  0.5849724982260702\n",
      "point =  6.715436413386193\n",
      "probability of observing that point if it came from cluster 0 =  0.1732297091892115\n",
      "probability of observing that point if it came from cluster 1 =  0.021201381306494464\n",
      "point =  4.294980883491939\n",
      "probability of observing that point if it came from cluster 0 =  4.6522760058118364e-05\n",
      "probability of observing that point if it came from cluster 1 =  0.3552691423923665\n",
      "point =  5.413155250523027\n",
      "probability of observing that point if it came from cluster 0 =  0.005809454377844418\n",
      "probability of observing that point if it came from cluster 1 =  0.47958005971995044\n",
      "point =  8.546678903345612\n",
      "probability of observing that point if it came from cluster 0 =  0.3559166523485007\n",
      "probability of observing that point if it came from cluster 1 =  4.782403095542743e-07\n",
      "point =  7.585194007796247\n",
      "probability of observing that point if it came from cluster 0 =  0.4402942547543703\n",
      "probability of observing that point if it came from cluster 1 =  0.0003303646649296533\n",
      "point =  5.787095309349438\n",
      "probability of observing that point if it came from cluster 0 =  0.01968055939289612\n",
      "probability of observing that point if it came from cluster 1 =  0.2869540416427187\n",
      "point =  8.775867944775392\n",
      "probability of observing that point if it came from cluster 0 =  0.27899300922932085\n",
      "probability of observing that point if it came from cluster 1 =  7.454689279613297e-08\n",
      "point =  5.193203678122577\n",
      "probability of observing that point if it came from cluster 0 =  0.0025844396007253727\n",
      "probability of observing that point if it came from cluster 1 =  0.5618720059202555\n",
      "3.936652762100088\n",
      "Probability of coming from S_1 = 2.520090943218379e-05\n",
      "Probability of coming from S_2 = 0.9999747990905679\n",
      "\n",
      "5.078758840736582\n",
      "Probability of coming from S_1 = 0.0018773677163264441\n",
      "Probability of coming from S_2 = 0.9981226322836735\n",
      "\n",
      "6.715436413386193\n",
      "Probability of coming from S_1 = 0.8448919880540966\n",
      "Probability of coming from S_2 = 0.15510801194590346\n",
      "\n",
      "4.294980883491939\n",
      "Probability of coming from S_1 = 8.729287818100784e-05\n",
      "Probability of coming from S_2 = 0.999912707121819\n",
      "\n",
      "5.413155250523027\n",
      "Probability of coming from S_1 = 0.008011056608324192\n",
      "Probability of coming from S_2 = 0.9919889433916758\n",
      "\n",
      "8.546678903345612\n",
      "Probability of coming from S_1 = 0.9999979844746971\n",
      "Probability of coming from S_2 = 2.0155253027352937e-06\n",
      "\n",
      "7.585194007796247\n",
      "Probability of coming from S_1 = 0.9988757748127903\n",
      "Probability of coming from S_2 = 0.0011242251872096447\n",
      "\n",
      "5.787095309349438\n",
      "Probability of coming from S_1 = 0.04372373081970708\n",
      "Probability of coming from S_2 = 0.9562762691802928\n",
      "\n",
      "8.775867944775392\n",
      "Probability of coming from S_1 = 0.9999995992003717\n",
      "Probability of coming from S_2 = 4.007996282255852e-07\n",
      "\n",
      "5.193203678122577\n",
      "Probability of coming from S_1 = 0.003057088581012\n",
      "Probability of coming from S_2 = 0.996942911418988\n",
      "\n",
      "P(S_1) = 0.4,  P(S_2) = 0.6\n",
      "mean_1 = 7.920759268694269,  mean_2 = 4.98925558472081\n",
      "var_1 = 0.7054923653588564,  var_2 = 0.4748185799949134\n"
     ]
    }
   ],
   "source": [
    "prob_s0_x = [] # P(S_0 | X_i)\n",
    "prob_s1_x = [] # P(S_1 | X_i)\n",
    "prob_x = [] # P(X_i)\n",
    "\n",
    "k = 2\n",
    "\n",
    "for p in data:\n",
    "    print(\"point = \", p)\n",
    "    pdf_i = []\n",
    "\n",
    "    for j in range(k):\n",
    "        # P(X_i | S_j)\n",
    "        pdf_i.append(norm.pdf(p, mean[j], var[j]**0.5))\n",
    "        print(\"probability of observing that point if it came from cluster \" + str(j) + \" = \", pdf_i[j])\n",
    "        # P(S_j) already computed\n",
    "        prob_s[j]\n",
    "\n",
    "    # P(X_i) = P(S_0)P(X_i | S_0) + P(S_1)P(X_i | S_1)\n",
    "    prob_x = prob_s[0] * pdf_i[0] + prob_s[1] * pdf_i[1]\n",
    "\n",
    "    # P(S_j | X_i) = P(X_i | S_j)P(S_j) / P(X_i)\n",
    "    prob_s0_x.append( (pdf_i[0] * prob_s[0]) / prob_x )\n",
    "    prob_s1_x.append( (pdf_i[1] * prob_s[1]) / prob_x )\n",
    "\n",
    "probs = zip(data, prob_s0_x, prob_s1_x)\n",
    "for p in probs:\n",
    "    print(p[0])\n",
    "    print(\"Probability of coming from S_1 = \" + str(p[1]))\n",
    "    print(\"Probability of coming from S_2 = \" + str(p[2]))\n",
    "    print()\n",
    "\n",
    "prob_c = [sum(prob_s0_x)/ len(prob_s0_x), sum(prob_s1_x)/ len(prob_s1_x) ]\n",
    "mean = [sum([x[0] * x[1] for x in zip(prob_s0_x, data)]) / sum(prob_s0_x), sum([x[0] * x[1] for x in zip(prob_s1_x, data)]) / sum(prob_s1_x) ]\n",
    "var = [ sum([(x - mean[0])**2 * p for x, p in zip(data, prob_s0_x)]) / sum(prob_s0_x), sum([(x - mean[1])**2 * p for x, p in zip(data, prob_s1_x)]) / sum(prob_s1_x) ]\n",
    "\n",
    "print(\"P(S_1) = \" + str(prob_s[0]) + \",  P(S_2) = \" + str(prob_s[1]))\n",
    "print(\"mean_1 = \" + str(mean[0]) + \",  mean_2 = \" + str(mean[1]))\n",
    "print(\"var_1 = \" + str(var[0]) + \",  var_2 = \" + str(var[1]))"
   ]
  },
  {
   "cell_type": "markdown",
   "metadata": {},
   "source": [
    "The values have very minimally changed, with a seeming shift of at most plus or minus 0.02 for each value."
   ]
  },
  {
   "cell_type": "markdown",
   "metadata": {},
   "source": [
    "h) Use `P(S_j | X_i)` to create a hard assignment - label each point as belonging to a specific cluster (0 or 1)"
   ]
  },
  {
   "cell_type": "code",
   "execution_count": 110,
   "metadata": {},
   "outputs": [
    {
     "name": "stdout",
     "output_type": "stream",
     "text": [
      "Points from cluster 0: [6.715436413386193, 8.546678903345612, 7.585194007796247, 8.775867944775392]\n",
      "Points from cluster 1: [3.936652762100088, 5.078758840736582, 4.294980883491939, 5.413155250523027, 5.787095309349438, 5.193203678122577]\n"
     ]
    }
   ],
   "source": [
    "cluster_0 = []\n",
    "cluster_1 = []\n",
    "\n",
    "probs = zip(data, prob_s0_x, prob_s1_x)\n",
    "\n",
    "for p in probs:\n",
    "    if p[1] > p[2]:\n",
    "        cluster_0.append(p[0])\n",
    "    else:\n",
    "        cluster_1.append(p[0])\n",
    "\n",
    "print(\"Points from cluster 0: \" + str(cluster_0))\n",
    "print(\"Points from cluster 1: \" + str(cluster_1))\n"
   ]
  }
 ],
 "metadata": {
  "kernelspec": {
   "display_name": "Python 3",
   "language": "python",
   "name": "python3"
  },
  "language_info": {
   "codemirror_mode": {
    "name": "ipython",
    "version": 3
   },
   "file_extension": ".py",
   "mimetype": "text/x-python",
   "name": "python",
   "nbconvert_exporter": "python",
   "pygments_lexer": "ipython3",
   "version": "3.10.11"
  },
  "orig_nbformat": 4,
  "vscode": {
   "interpreter": {
    "hash": "e7370f93d1d0cde622a1f8e1c04877d8463912d04d973331ad4851f04de6915a"
   }
  }
 },
 "nbformat": 4,
 "nbformat_minor": 2
}
